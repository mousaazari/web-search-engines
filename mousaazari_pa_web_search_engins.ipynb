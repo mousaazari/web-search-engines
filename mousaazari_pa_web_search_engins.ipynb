{
  "nbformat": 4,
  "nbformat_minor": 0,
  "metadata": {
    "colab": {
      "provenance": [],
      "machine_shape": "hm"
    },
    "kernelspec": {
      "name": "python3",
      "display_name": "Python 3"
    },
    "language_info": {
      "name": "python"
    },
    "accelerator": "GPU",
    "gpuClass": "standard"
  },
  "cells": [
    {
      "cell_type": "code",
      "source": [
        "import numpy as np\n",
        "import operator"
      ],
      "metadata": {
        "id": "v_swHvtrbrxi"
      },
      "execution_count": 31,
      "outputs": []
    },
    {
      "cell_type": "code",
      "execution_count": 1,
      "metadata": {
        "colab": {
          "base_uri": "https://localhost:8080/"
        },
        "id": "yAwso0IxbxGU",
        "outputId": "2f228fab-b4ed-4cba-a178-00dacb31d0b0"
      },
      "outputs": [
        {
          "output_type": "stream",
          "name": "stdout",
          "text": [
            "native american photographs images\n",
            "\n"
          ]
        }
      ],
      "source": [
        "# open the text file in read mode\n",
        "with open('10000_topics.txt', 'r') as p:\n",
        "    # create an empty list to store the data\n",
        "    data = []\n",
        "    # iterate over the lines in the file\n",
        "    for line in p:\n",
        "        # split the line into a list of substrings based on the \":\" character\n",
        "        items = line.split(':')\n",
        "        data.append(items[1])\n",
        "\n",
        "    # print the data list\n",
        "    print(data[1])\n",
        "\n",
        "# close the file\n",
        "p.close()\n"
      ]
    },
    {
      "cell_type": "code",
      "source": [
        "# Open the text file in read mode\n",
        "with open('wordlist.txt', 'r') as f:\n",
        "  # Create an empty list to store the data\n",
        "  data1 = []\n",
        "  # Read each line of the file\n",
        "  for line in f:\n",
        "    # Split the line into a list of fields\n",
        "    fields = line.split()\n",
        "    # Append the list of fields to the data list\n",
        "    data1.append(fields)\n",
        "\n",
        "# Print the data list\n",
        "print(data1[0])\n"
      ],
      "metadata": {
        "colab": {
          "base_uri": "https://localhost:8080/"
        },
        "id": "DjOJNXBMcS-z",
        "outputId": "086ef128-1602-4d0e-f0d3-f25e5eaa8149"
      },
      "execution_count": 2,
      "outputs": [
        {
          "output_type": "stream",
          "name": "stdout",
          "text": [
            "['00', '474', '7.094408']\n"
          ]
        }
      ]
    },
    {
      "cell_type": "code",
      "source": [
        "len(data1)"
      ],
      "metadata": {
        "colab": {
          "base_uri": "https://localhost:8080/"
        },
        "id": "G7QNpaNM0O9x",
        "outputId": "22523f6c-4b44-4c17-b06e-ae832c1dc998"
      },
      "execution_count": 3,
      "outputs": [
        {
          "output_type": "execute_result",
          "data": {
            "text/plain": [
              "517232"
            ]
          },
          "metadata": {},
          "execution_count": 3
        }
      ]
    },
    {
      "cell_type": "code",
      "source": [
        "term = []\n",
        "PLL = []\n",
        "\n",
        "for x in data1:\n",
        "    a = x[0]\n",
        "    b = x[1]\n",
        "\n",
        "    term.append(a)\n",
        "    PLL.append(b)\n"
      ],
      "metadata": {
        "id": "UmqnfgTSftOp"
      },
      "execution_count": 4,
      "outputs": []
    },
    {
      "cell_type": "code",
      "source": [
        "PLL[1]"
      ],
      "metadata": {
        "colab": {
          "base_uri": "https://localhost:8080/",
          "height": 35
        },
        "id": "Un7BAqjagIcP",
        "outputId": "5a8a917b-11ca-4794-b760-7efc5da2471d"
      },
      "execution_count": 5,
      "outputs": [
        {
          "output_type": "execute_result",
          "data": {
            "text/plain": [
              "'144'"
            ],
            "application/vnd.google.colaboratory.intrinsic+json": {
              "type": "string"
            }
          },
          "metadata": {},
          "execution_count": 5
        }
      ]
    },
    {
      "cell_type": "code",
      "source": [
        "len(term)"
      ],
      "metadata": {
        "colab": {
          "base_uri": "https://localhost:8080/"
        },
        "id": "cMjgJnjLezhf",
        "outputId": "58a29270-895a-4c06-9832-dd18b8ae1033"
      },
      "execution_count": 6,
      "outputs": [
        {
          "output_type": "execute_result",
          "data": {
            "text/plain": [
              "517232"
            ]
          },
          "metadata": {},
          "execution_count": 6
        }
      ]
    },
    {
      "cell_type": "code",
      "source": [
        "# Define the number of dictionaries and the list of terms\n",
        "K = 32\n",
        "\n",
        "# Create a list of dictionaries\n",
        "dicts = [{} for _ in range(K)]\n",
        "\n",
        "# Assign the terms to the dictionaries using round robin\n",
        "for i, (terms, plls) in enumerate(zip(term, PLL)):\n",
        "    dicts[i % K][terms] = plls\n",
        "\n",
        "# Print the dictionaries\n",
        "for i, d in enumerate(dicts):\n",
        "    print(f\"Dictionary {i+1}: {d}\")\n",
        "\n"
      ],
      "metadata": {
        "colab": {
          "base_uri": "https://localhost:8080/"
        },
        "id": "wum_hUE-e3Os",
        "outputId": "2c9c07fb-042f-40e5-c16b-542ad97f9845"
      },
      "execution_count": 83,
      "outputs": [
        {
          "output_type": "stream",
          "name": "stderr",
          "text": [
            "IOPub data rate exceeded.\n",
            "The notebook server will temporarily stop sending output\n",
            "to the client in order to avoid crashing it.\n",
            "To change this limit, set the config variable\n",
            "`--NotebookApp.iopub_data_rate_limit`.\n",
            "\n",
            "Current values:\n",
            "NotebookApp.iopub_data_rate_limit=1000000.0 (bytes/sec)\n",
            "NotebookApp.rate_limit_window=3.0 (secs)\n",
            "\n"
          ]
        }
      ]
    },
    {
      "cell_type": "code",
      "source": [
        "dicts[0][\"00\"]"
      ],
      "metadata": {
        "colab": {
          "base_uri": "https://localhost:8080/",
          "height": 35
        },
        "id": "02c9E05ZzNJV",
        "outputId": "9bdcf37b-3cf2-406d-8d0c-eb3414a028c6"
      },
      "execution_count": 70,
      "outputs": [
        {
          "output_type": "execute_result",
          "data": {
            "text/plain": [
              "'474'"
            ],
            "application/vnd.google.colaboratory.intrinsic+json": {
              "type": "string"
            }
          },
          "metadata": {},
          "execution_count": 70
        }
      ]
    },
    {
      "cell_type": "code",
      "source": [
        "def process_query(query, dictionaries):\n",
        "    terms = query.split()\n",
        "    results = {}\n",
        "    i=0\n",
        "    len_dict=len(dictionaries)+1\n",
        "    all_costs = [0] * len_dict\n",
        "    for dictionary in dictionaries:\n",
        "        broker_cost = 0\n",
        "        node_cost = 0\n",
        "        total_cost = 0\n",
        "        valid_terms = []\n",
        "\n",
        "        for term in terms:\n",
        "            if term in dictionary:\n",
        "                valid_terms.append(dictionary[term])\n",
        "        if len(valid_terms)>0:\n",
        "            results[i] = (valid_terms)\n",
        "        i+=1\n",
        "\n",
        "    # Iterate over the dictionary\n",
        "    if len(results) > 1:\n",
        "        for key, value in results.items():\n",
        "            # Check if the value is a list with more than one element\n",
        "            if isinstance(value, list) and len(value) > 1:\n",
        "                # If the value is a list with more than one element, print the minimum value\n",
        "                broker_cost += int(min(value))\n",
        "                all_costs[key] += broker_cost\n",
        "                all_costs[-1] += broker_cost\n",
        "                # for k in range(len_dict):\n",
        "                  \n",
        "            if len(value) == 1:\n",
        "                # If the value is not a list or has only one element, print the value\n",
        "                broker_cost += int(value[0])\n",
        "                all_costs[key] += broker_cost\n",
        "                all_costs[-1] += broker_cost\n",
        "\n",
        "    if len(results) == 1:\n",
        "        # If there is only one key, get the key and value\n",
        "        key, value = list(results.items())[0]\n",
        "\n",
        "        # Check if the value is a list\n",
        "        if isinstance(value, list):\n",
        "            # Initialize the sum to 0\n",
        "            value_sum = 0\n",
        "            # Iterate over the values in the list\n",
        "            for val in value:\n",
        "                # Check if the value is an integer\n",
        "                if isinstance(val, int):\n",
        "                    # If the value is an integer, add it to the sum\n",
        "                    value_sum += val\n",
        "                    all_costs[key] += value_sum\n",
        "                # Check if the value is a string that can be converted to an integer\n",
        "                elif val.isdigit():\n",
        "                    # If the value is a string that can be converted to an integer, add it to the sum\n",
        "                    value_sum += int(val)\n",
        "                    all_costs[key] += value_sum\n",
        "        else:\n",
        "            # If the value is not a list, print the value\n",
        "            value_sum = value\n",
        "            all_costs[key] += value_sum\n",
        "    return (all_costs)"
      ],
      "metadata": {
        "id": "WrmwN_Ga3V99"
      },
      "execution_count": 84,
      "outputs": []
    },
    {
      "cell_type": "code",
      "source": [
        "cost_report = [0] * (K+1)\n",
        "for items in data:\n",
        "  new = process_query(items,dicts)\n",
        "  # print(new)\n",
        "  cost_report=list(map(operator.add, new, cost_report))\n",
        "print((cost_report))"
      ],
      "metadata": {
        "colab": {
          "base_uri": "https://localhost:8080/"
        },
        "id": "_u15RZ9tU13P",
        "outputId": "8dff4313-45aa-495a-bf90-818b98bfa9d6"
      },
      "execution_count": 85,
      "outputs": [
        {
          "output_type": "stream",
          "name": "stdout",
          "text": [
            "[4014923, 3458431, 5567193, 6836900, 107870001, 26647281, 28313014, 25803854, 51372846, 32136151, 38359711, 207706916, 31896008, 46949834, 183124432, 275768283, 82667483, 82380720, 413736621, 179565604, 181254043, 218581447, 128100073, 141327351, 123683368, 182166851, 141298889, 149187678, 155038438, 224927545, 126965262, 149439046, 3748630002]\n"
          ]
        }
      ]
    },
    {
      "cell_type": "code",
      "source": [
        "k = 4\n",
        "int_list = [eval(i) for i in PLL]\n",
        "newList = [x / k for x in int_list]\n",
        "print(newList[0])\n",
        "\n",
        "new_dict = dict(zip(term, newList))"
      ],
      "metadata": {
        "colab": {
          "base_uri": "https://localhost:8080/"
        },
        "id": "8K3TkTwfp4xj",
        "outputId": "90dcd814-c70d-4043-a406-fc4e07e6f989"
      },
      "execution_count": 77,
      "outputs": [
        {
          "output_type": "stream",
          "name": "stdout",
          "text": [
            "118.5\n"
          ]
        }
      ]
    },
    {
      "cell_type": "code",
      "source": [
        "cost_report = [0] * (k+1)\n",
        "for docs in data:\n",
        "  new = process_query(docs,dicts)\n",
        "  # print(new)\n",
        "  cost_report=list(map(operator.add, new, cost_report))\n",
        "print((cost_report))"
      ],
      "metadata": {
        "id": "cS11bmlv48Le"
      },
      "execution_count": null,
      "outputs": []
    },
    {
      "cell_type": "code",
      "source": [
        "import matplotlib.pyplot as plt\n",
        "\n",
        "\n",
        "x_values = range(1, 34)\n",
        "\n",
        "plt.ylabel(\"Query Processing Cost\")\n",
        "plt.title(\"Cost in each node (K=32)\")\n",
        "\n",
        "plt.bar(x_values, cost_report)\n",
        "plt.show()\n"
      ],
      "metadata": {
        "colab": {
          "base_uri": "https://localhost:8080/",
          "height": 281
        },
        "id": "O6Abpr_IYNcr",
        "outputId": "712a0b4f-687e-4c0f-ed91-6fc2337c8a72"
      },
      "execution_count": 88,
      "outputs": [
        {
          "output_type": "display_data",
          "data": {
            "text/plain": [
              "<Figure size 432x288 with 1 Axes>"
            ],
            "image/png": "[encoded data removed]"
          },
          "metadata": {
            "needs_background": "light"
          }
        }
      ]
    },
    {
      "cell_type": "code",
      "source": [],
      "metadata": {
        "id": "_JrxNZ9epD8q"
      },
      "execution_count": null,
      "outputs": []
    }
  ]
}